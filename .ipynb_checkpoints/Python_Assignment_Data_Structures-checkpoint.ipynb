{
 "cells": [
  {
   "cell_type": "code",
   "execution_count": 1,
   "id": "fc4b7388-f8ba-4982-96d4-4831c6bab1c9",
   "metadata": {},
   "outputs": [],
   "source": [
    "# 1. Discuss String slicing and provide examples"
   ]
  },
  {
   "cell_type": "code",
   "execution_count": 2,
   "id": "eed7f295-b5ad-474e-a5e3-37e2e9c487a6",
   "metadata": {},
   "outputs": [
    {
     "data": {
      "text/plain": [
       "'World'"
      ]
     },
     "execution_count": 2,
     "metadata": {},
     "output_type": "execute_result"
    }
   ],
   "source": [
    "# String slicing is a powerful technique in Python that allows you to extract or manipulate specific portions of a string. \n",
    "# It's a fundamental operation for working with text data. \n",
    "# Syntax: string_name[start:stop:step]\n",
    "# Example: Extracting a substring:\n",
    "str1=\"Hello, World!\"\n",
    "substring=str1[7:12]\n",
    "substring"
   ]
  },
  {
   "cell_type": "code",
   "execution_count": 3,
   "id": "9df3120d-3d35-4598-ae0e-bd93bd2f2e6a",
   "metadata": {},
   "outputs": [
    {
     "name": "stdout",
     "output_type": "stream",
     "text": [
      "!dlroW ,olleH\n"
     ]
    }
   ],
   "source": [
    "# Reversing a string:\n",
    "reverse=str1[::-1]\n",
    "print(reverse)"
   ]
  },
  {
   "cell_type": "code",
   "execution_count": 4,
   "id": "317e0f20-e4d3-4b8f-8069-c78ee1a49bc5",
   "metadata": {},
   "outputs": [],
   "source": [
    "# 2. Explain the key features of lists in python"
   ]
  },
  {
   "cell_type": "code",
   "execution_count": 5,
   "id": "659f30bf-1e61-4f1d-a667-c9cf831e5a36",
   "metadata": {},
   "outputs": [],
   "source": [
    "# 1. Ordered Sequence:\n",
    "# Indexing: Elements in a list are accessed using their index, which starts from 0.\n",
    "# Slicing: You can extract subsets of a list using slicing notation.\n",
    "\n",
    "# 2. Mutable:\n",
    "# Modification: Elements in a list can be changed, added, or removed after creation.\n",
    "# In-place operations: Many list operations modify the list directly without creating a new one.\n",
    "\n",
    "# 3. Heterogeneous:\n",
    "# Mixed data types: Lists can contain elements of different data types (e.g., integers, strings, floats, even other lists).\n",
    "\n",
    "# 4. Dynamically Sized:\n",
    "# No fixed length: Lists can grow or shrink as needed to accommodate new elements."
   ]
  },
  {
   "cell_type": "code",
   "execution_count": 6,
   "id": "2f9b2670-226d-4f76-91bc-488161105268",
   "metadata": {},
   "outputs": [],
   "source": [
    "# 3. Describe how to access, modify, and delete elements in a list with examples"
   ]
  },
  {
   "cell_type": "code",
   "execution_count": 7,
   "id": "6e954df1-12eb-458c-8817-e39b6f4d8726",
   "metadata": {},
   "outputs": [],
   "source": [
    "# Accessing elements\n",
    "my_list = [10, 20, 30, 40]\n",
    "first_element = my_list[0]  \n",
    "third_element = my_list[2]  "
   ]
  },
  {
   "cell_type": "code",
   "execution_count": 8,
   "id": "c7660dd2-9be3-43a3-8634-693a1d286be1",
   "metadata": {},
   "outputs": [
    {
     "data": {
      "text/plain": [
       "10"
      ]
     },
     "execution_count": 8,
     "metadata": {},
     "output_type": "execute_result"
    }
   ],
   "source": [
    "first_element"
   ]
  },
  {
   "cell_type": "code",
   "execution_count": 9,
   "id": "36ab03b0-0b61-4af2-b8fa-83c4bacc75f9",
   "metadata": {},
   "outputs": [
    {
     "data": {
      "text/plain": [
       "30"
      ]
     },
     "execution_count": 9,
     "metadata": {},
     "output_type": "execute_result"
    }
   ],
   "source": [
    "third_element"
   ]
  },
  {
   "cell_type": "code",
   "execution_count": 10,
   "id": "a3f62a9a-4c37-4a0b-bb56-424108453782",
   "metadata": {},
   "outputs": [],
   "source": [
    "# we can access the elements using slicing also\n",
    "my_list = [10, 20, 30, 40, 50]\n",
    "sublist = my_list[1:4] "
   ]
  },
  {
   "cell_type": "code",
   "execution_count": 11,
   "id": "c08a973f-0221-45ef-951f-792a4c767cff",
   "metadata": {},
   "outputs": [
    {
     "data": {
      "text/plain": [
       "[20, 30, 40]"
      ]
     },
     "execution_count": 11,
     "metadata": {},
     "output_type": "execute_result"
    }
   ],
   "source": [
    "sublist"
   ]
  },
  {
   "cell_type": "code",
   "execution_count": 12,
   "id": "0ce2e149-fb4d-4405-a17e-146d9c25d59b",
   "metadata": {},
   "outputs": [],
   "source": [
    "# Modifying elements\n",
    "my_list = [10, 20, 30, 40]\n",
    "my_list[2] = 50"
   ]
  },
  {
   "cell_type": "code",
   "execution_count": 13,
   "id": "420c6aa5-d571-4d02-b7bd-9a8136add3b7",
   "metadata": {},
   "outputs": [
    {
     "data": {
      "text/plain": [
       "[10, 20, 50, 40]"
      ]
     },
     "execution_count": 13,
     "metadata": {},
     "output_type": "execute_result"
    }
   ],
   "source": [
    "my_list"
   ]
  },
  {
   "cell_type": "code",
   "execution_count": 14,
   "id": "4be50513-a58b-4ea6-b45c-5a7fd3f8fb46",
   "metadata": {},
   "outputs": [
    {
     "data": {
      "text/plain": [
       "[10, 50, 20, 30, 40, 60, 70]"
      ]
     },
     "execution_count": 14,
     "metadata": {},
     "output_type": "execute_result"
    }
   ],
   "source": [
    "# we can also modify using in-build methods also\n",
    "my_list = [10, 20, 30]\n",
    "my_list.append(40)  # Adds 40 to the end\n",
    "my_list.insert(1, 50)  # Inserts 50 at index 1\n",
    "my_list.extend([60, 70])  # Appends 60 and 70\n",
    "my_list"
   ]
  },
  {
   "cell_type": "code",
   "execution_count": 15,
   "id": "403863ab-192f-488f-a805-ae8abccebc83",
   "metadata": {},
   "outputs": [],
   "source": [
    "# Removing elements\n",
    "my_list = [10, 20, 30, 40]\n",
    "del my_list[1]"
   ]
  },
  {
   "cell_type": "code",
   "execution_count": 16,
   "id": "7999aabe-81e4-4fd1-956f-edc0bce0082e",
   "metadata": {},
   "outputs": [
    {
     "data": {
      "text/plain": [
       "[10, 30, 40]"
      ]
     },
     "execution_count": 16,
     "metadata": {},
     "output_type": "execute_result"
    }
   ],
   "source": [
    "my_list"
   ]
  },
  {
   "cell_type": "code",
   "execution_count": 17,
   "id": "67c84da6-86e2-4e81-9d3f-0209ed721a8b",
   "metadata": {},
   "outputs": [],
   "source": [
    "my_list = [10, 20, 30, 20, 40]\n",
    "my_list.remove(20) "
   ]
  },
  {
   "cell_type": "code",
   "execution_count": 18,
   "id": "b54578d0-c2ae-47bc-a6ee-486a92bef2bb",
   "metadata": {},
   "outputs": [
    {
     "data": {
      "text/plain": [
       "[10, 30, 20, 40]"
      ]
     },
     "execution_count": 18,
     "metadata": {},
     "output_type": "execute_result"
    }
   ],
   "source": [
    "my_list"
   ]
  },
  {
   "cell_type": "code",
   "execution_count": 19,
   "id": "e3c68f15-ce73-4007-a3d6-c28589c6322a",
   "metadata": {},
   "outputs": [],
   "source": [
    "my_list = [10, 20, 30]\n",
    "removed_element = my_list.pop(1)"
   ]
  },
  {
   "cell_type": "code",
   "execution_count": 20,
   "id": "e0d77076-1ba1-4dc4-9330-e837ee14b15d",
   "metadata": {},
   "outputs": [
    {
     "data": {
      "text/plain": [
       "[10, 30]"
      ]
     },
     "execution_count": 20,
     "metadata": {},
     "output_type": "execute_result"
    }
   ],
   "source": [
    "my_list"
   ]
  },
  {
   "cell_type": "code",
   "execution_count": 21,
   "id": "79c59360-72e8-41c7-bdd9-1d30e530e9bd",
   "metadata": {},
   "outputs": [],
   "source": [
    "# 4. Compare and contrast tuples and lists with examples"
   ]
  },
  {
   "cell_type": "code",
   "execution_count": 22,
   "id": "e3829676-1f12-4810-8d15-edb4414d81eb",
   "metadata": {},
   "outputs": [],
   "source": [
    "# Mutability\n",
    "# Lists: Mutable, meaning their elements can be changed, added, or removed after creation.\n",
    "# Tuples: Immutable, meaning their elements cannot be modified once created.\n",
    "\n",
    "# Usage\n",
    "# Lists: Dynamic data\n",
    "# Tuples: Fixed data, keys, return values\n",
    "\n",
    "# Syntax\n",
    "# Lists: Square brackets []\n",
    "# Tuples: Round brackets ()\n",
    "\n",
    "# Speed\n",
    "# Lists: Generally slower (due to mutability)\n",
    "# Tuples: Generally faster (due to immutability)"
   ]
  },
  {
   "cell_type": "code",
   "execution_count": 23,
   "id": "83a990fa-1049-4d3d-8826-f91bb87859f3",
   "metadata": {},
   "outputs": [],
   "source": [
    "# Ex: Lists\n",
    "my_list = [10, \"hello\", 3.14]"
   ]
  },
  {
   "cell_type": "code",
   "execution_count": 24,
   "id": "cd415183-21a7-48fa-952a-0c8a31b46ce7",
   "metadata": {},
   "outputs": [],
   "source": [
    "my_list[1] = \"world\"  # Modify an element"
   ]
  },
  {
   "cell_type": "code",
   "execution_count": 25,
   "id": "57a8edd0-0a64-4634-9fc0-8c109f743097",
   "metadata": {},
   "outputs": [],
   "source": [
    "my_list.append(5)  # Add an element"
   ]
  },
  {
   "cell_type": "code",
   "execution_count": 26,
   "id": "69b6d91a-dfc4-4f31-a89c-b6f62d096509",
   "metadata": {},
   "outputs": [],
   "source": [
    "del my_list[0]  # Remove an element"
   ]
  },
  {
   "cell_type": "code",
   "execution_count": 27,
   "id": "d84fc9f0-7073-4ccb-9bd8-ef37a9c48694",
   "metadata": {},
   "outputs": [
    {
     "data": {
      "text/plain": [
       "['world', 3.14, 5]"
      ]
     },
     "execution_count": 27,
     "metadata": {},
     "output_type": "execute_result"
    }
   ],
   "source": [
    "my_list"
   ]
  },
  {
   "cell_type": "code",
   "execution_count": 28,
   "id": "48689a51-04af-4722-b9d1-f71bd33d14a0",
   "metadata": {},
   "outputs": [],
   "source": [
    "# Ex: Tuples\n",
    "my_tuple = (10, \"hello\", 3.14)"
   ]
  },
  {
   "cell_type": "code",
   "execution_count": 29,
   "id": "363acaa0-fd94-4aa4-94d8-623e93da1214",
   "metadata": {},
   "outputs": [],
   "source": [
    "# my_tuple[1] = \"world\"  # This will raise an error\n",
    "# my_tuple.append(5)  # This will raise an error"
   ]
  },
  {
   "cell_type": "code",
   "execution_count": 30,
   "id": "4046e08d-67c4-4b33-aef9-31be8b843033",
   "metadata": {},
   "outputs": [],
   "source": [
    "# 5. Describe the key features of sets and provide examples of their use"
   ]
  },
  {
   "cell_type": "code",
   "execution_count": 31,
   "id": "2f4bf8b7-f825-4afc-b6b1-4eb8502ea5af",
   "metadata": {},
   "outputs": [],
   "source": [
    "# Sets are unordered collections of unique elements in Python. They are similar to lists and tuples, but with the following key differences:\n",
    "\n",
    "# Unordered: Elements in a set do not have a specific order.\n",
    "# Unique: Each element can only appear once in a set.\n",
    "# Mutable: Sets can be modified by adding or removing elements.\n",
    "# No indexing: Elements cannot be accessed by index.\n",
    "# Set operations: Sets support various set operations like union, intersection, difference, and symmetric difference."
   ]
  },
  {
   "cell_type": "code",
   "execution_count": 32,
   "id": "d8bf97e5-28cc-4908-b35a-a9512a6996bc",
   "metadata": {},
   "outputs": [],
   "source": [
    "# Creating set\n",
    "my_set = {1, 2, 3, 4}"
   ]
  },
  {
   "cell_type": "code",
   "execution_count": 33,
   "id": "01cd35b2-47d5-4576-978d-5d2415a05c54",
   "metadata": {},
   "outputs": [],
   "source": [
    "# Adding element\n",
    "my_set.add(5) "
   ]
  },
  {
   "cell_type": "code",
   "execution_count": 34,
   "id": "bf910b87-6f70-40d2-8852-75634d446d77",
   "metadata": {},
   "outputs": [],
   "source": [
    "# Removing element\n",
    "my_set.remove(3)  # Removes 3 from the set\n",
    "my_set.discard(6)  # Removes 6 if present, otherwise does nothing"
   ]
  },
  {
   "cell_type": "code",
   "execution_count": 35,
   "id": "46ef5a0c-071a-4b7d-a499-5bca1268b411",
   "metadata": {},
   "outputs": [
    {
     "data": {
      "text/plain": [
       "{1, 2, 4, 5}"
      ]
     },
     "execution_count": 35,
     "metadata": {},
     "output_type": "execute_result"
    }
   ],
   "source": [
    "my_set"
   ]
  },
  {
   "cell_type": "code",
   "execution_count": 36,
   "id": "2d18e4ac-6cb9-4585-9246-f6eaba280218",
   "metadata": {},
   "outputs": [
    {
     "name": "stdout",
     "output_type": "stream",
     "text": [
      "{1, 2, 3, 4, 5}\n"
     ]
    }
   ],
   "source": [
    "# Set operations\n",
    "# Union\n",
    "set1 = {1, 2, 3}\n",
    "set2 = {3, 4, 5}\n",
    "union_set = set1 | set2 \n",
    "print(union_set) "
   ]
  },
  {
   "cell_type": "code",
   "execution_count": 37,
   "id": "ab53c26b-4a97-406e-9cce-19f2a008bbe9",
   "metadata": {},
   "outputs": [
    {
     "name": "stdout",
     "output_type": "stream",
     "text": [
      "{3}\n"
     ]
    }
   ],
   "source": [
    "# Intersection\n",
    "intersection_set = set1 & set2 \n",
    "print(intersection_set)  "
   ]
  },
  {
   "cell_type": "code",
   "execution_count": 38,
   "id": "2c010e70-114b-463f-9765-e3423c12dd69",
   "metadata": {},
   "outputs": [
    {
     "name": "stdout",
     "output_type": "stream",
     "text": [
      "{1, 2}\n"
     ]
    }
   ],
   "source": [
    "# Difference\n",
    "difference_set = set1 - set2 \n",
    "print(difference_set)  "
   ]
  },
  {
   "cell_type": "code",
   "execution_count": 39,
   "id": "3b780876-08f4-409f-919f-70f71ca022fc",
   "metadata": {},
   "outputs": [
    {
     "name": "stdout",
     "output_type": "stream",
     "text": [
      "{1, 2, 4, 5}\n"
     ]
    }
   ],
   "source": [
    "# Symmetric difference\n",
    "symmetric_difference_set = set1 ^ set2 \n",
    "print(symmetric_difference_set) "
   ]
  },
  {
   "cell_type": "code",
   "execution_count": 40,
   "id": "85710d65-2025-4620-a86f-ad49acacfee5",
   "metadata": {},
   "outputs": [],
   "source": [
    "# 6. Discuss the use cases of tuples and sets in python programming"
   ]
  },
  {
   "cell_type": "code",
   "execution_count": 41,
   "id": "fc489802-9376-4875-aa55-0e835670bdeb",
   "metadata": {},
   "outputs": [],
   "source": [
    "# Tuples\n",
    "#Tuples are immutable sequences, meaning their elements cannot be changed once created. \n",
    "# They are commonly used in Python for:\n",
    "\n",
    "# a) Representing fixed data: When you need to store data that won't change, such as coordinates, dimensions, or database records.\n",
    "coordinates = (3.14, 2.71)\n",
    "dimensions = (10, 20, 30)"
   ]
  },
  {
   "cell_type": "code",
   "execution_count": 42,
   "id": "d06c5509-b8bc-40a7-ac1b-de9f5ba87028",
   "metadata": {},
   "outputs": [
    {
     "data": {
      "text/plain": [
       "(3.14, 2.71)"
      ]
     },
     "execution_count": 42,
     "metadata": {},
     "output_type": "execute_result"
    }
   ],
   "source": [
    "coordinates"
   ]
  },
  {
   "cell_type": "code",
   "execution_count": 43,
   "id": "9777d1f4-2fb6-4638-a3b2-095d27e300af",
   "metadata": {},
   "outputs": [
    {
     "data": {
      "text/plain": [
       "(10, 20, 30)"
      ]
     },
     "execution_count": 43,
     "metadata": {},
     "output_type": "execute_result"
    }
   ],
   "source": [
    "dimensions"
   ]
  },
  {
   "cell_type": "code",
   "execution_count": 44,
   "id": "5cf7b01f-bbc8-4d85-a4af-29f8ecfa304a",
   "metadata": {},
   "outputs": [
    {
     "name": "stdout",
     "output_type": "stream",
     "text": [
      "30\n"
     ]
    }
   ],
   "source": [
    "# b) Creating immutable keys for dictionaries: Since tuples are immutable, they can be used as keys in dictionaries.\n",
    "person = {('John', 'Doe'): 30}\n",
    "print(person[('John', 'Doe')])  "
   ]
  },
  {
   "cell_type": "code",
   "execution_count": 45,
   "id": "bdb1862c-425d-46ba-b27b-51c73fd569ba",
   "metadata": {},
   "outputs": [
    {
     "name": "stdout",
     "output_type": "stream",
     "text": [
      "{1, 2, 3, 4}\n"
     ]
    }
   ],
   "source": [
    "# Sets\n",
    "# Sets are unordered collections of unique elements. They are commonly used in Python for:\n",
    "\n",
    "# a) Removing duplicates: Creating a set from a list or tuple removes duplicates.\n",
    "my_list = [1, 2, 3, 2, 4, 1]\n",
    "unique_elements = set(my_list)\n",
    "print(unique_elements)  "
   ]
  },
  {
   "cell_type": "code",
   "execution_count": 46,
   "id": "ed9ac73d-3ae8-4293-8dd6-9e0cc4d18c24",
   "metadata": {},
   "outputs": [
    {
     "name": "stdout",
     "output_type": "stream",
     "text": [
      "Apple is in the set\n"
     ]
    }
   ],
   "source": [
    "#  b) Membership testing: Checking if an element exists in a set is faster than in a list.\n",
    "fruits = {\"apple\", \"banana\", \"orange\"}\n",
    "if \"apple\" in fruits:\n",
    "    print(\"Apple is in the set\")"
   ]
  },
  {
   "cell_type": "code",
   "execution_count": 47,
   "id": "a3d06578-fbc3-4db0-8649-75617398559c",
   "metadata": {},
   "outputs": [
    {
     "name": "stdout",
     "output_type": "stream",
     "text": [
      "{1, 2, 3, 4, 5}\n"
     ]
    }
   ],
   "source": [
    "# Mathematical operations: Performing set operations like union, intersection, difference, and symmetric difference.\n",
    "set1 = {1, 2, 3}\n",
    "set2 = {3, 4, 5}\n",
    "union_set = set1 | set2\n",
    "print(union_set)  "
   ]
  },
  {
   "cell_type": "code",
   "execution_count": 48,
   "id": "a03ddf49-e943-4aea-99f4-98cfd31aacb5",
   "metadata": {},
   "outputs": [],
   "source": [
    "# 7. Describe how to add, modify and delete items in a dictionary with examples"
   ]
  },
  {
   "cell_type": "code",
   "execution_count": 49,
   "id": "e57fda54-209f-408e-ac2e-fffad1d094f3",
   "metadata": {},
   "outputs": [],
   "source": [
    "# Adding Items\n",
    "# Direct assignment: Assign a value to a new key.\n",
    "my_dict = {}\n",
    "my_dict[\"key1\"] = \"value1\"\n",
    "my_dict[\"key2\"] = \"value2\""
   ]
  },
  {
   "cell_type": "code",
   "execution_count": 50,
   "id": "464205a7-5778-49de-a267-abd95ab203b5",
   "metadata": {},
   "outputs": [
    {
     "data": {
      "text/plain": [
       "{'key1': 'value1', 'key2': 'value2'}"
      ]
     },
     "execution_count": 50,
     "metadata": {},
     "output_type": "execute_result"
    }
   ],
   "source": [
    "my_dict"
   ]
  },
  {
   "cell_type": "code",
   "execution_count": 51,
   "id": "c90da55e-f02e-4701-ab14-486e531bf1ea",
   "metadata": {},
   "outputs": [
    {
     "data": {
      "text/plain": [
       "{'key1': 'value1', 'key2': 'value2', 'key3': 'value3', 'key4': 'value4'}"
      ]
     },
     "execution_count": 51,
     "metadata": {},
     "output_type": "execute_result"
    }
   ],
   "source": [
    "# Using update(): Merge another dictionary into the current one.\n",
    "my_dict.update({\"key3\": \"value3\", \"key4\": \"value4\"})\n",
    "my_dict"
   ]
  },
  {
   "cell_type": "code",
   "execution_count": 52,
   "id": "3bd8f5a0-42c8-4325-8381-d789e573541c",
   "metadata": {},
   "outputs": [],
   "source": [
    "# Modifying Items\n",
    "# Direct assignment: Assign a new value to an existing key.\n",
    "my_dict[\"key1\"] = \"new_value\""
   ]
  },
  {
   "cell_type": "code",
   "execution_count": 53,
   "id": "96c313a7-b28b-4538-a324-80aabe5b00ea",
   "metadata": {},
   "outputs": [
    {
     "data": {
      "text/plain": [
       "{'key1': 'new_value', 'key2': 'value2', 'key3': 'value3', 'key4': 'value4'}"
      ]
     },
     "execution_count": 53,
     "metadata": {},
     "output_type": "execute_result"
    }
   ],
   "source": [
    "my_dict"
   ]
  },
  {
   "cell_type": "code",
   "execution_count": 54,
   "id": "0b5cdf0d-62fb-4772-91a6-0e14e5830ce2",
   "metadata": {},
   "outputs": [],
   "source": [
    "# Deleting Items\n",
    "# Using del: Delete an item by its key.\n",
    "del my_dict[\"key2\"]"
   ]
  },
  {
   "cell_type": "code",
   "execution_count": 55,
   "id": "c3e10290-ecb9-4f9e-94c5-058744af0205",
   "metadata": {},
   "outputs": [
    {
     "data": {
      "text/plain": [
       "{'key1': 'new_value', 'key3': 'value3', 'key4': 'value4'}"
      ]
     },
     "execution_count": 55,
     "metadata": {},
     "output_type": "execute_result"
    }
   ],
   "source": [
    "my_dict"
   ]
  },
  {
   "cell_type": "code",
   "execution_count": 56,
   "id": "c712ee23-c200-4f9a-a3c3-7fec1acfc3d0",
   "metadata": {},
   "outputs": [],
   "source": [
    "# Using pop(): Delete an item by its key and return its value.\n",
    "value = my_dict.pop(\"key3\")"
   ]
  },
  {
   "cell_type": "code",
   "execution_count": 57,
   "id": "e82ef6e3-b9bf-47fc-af01-a7bf8509ab0b",
   "metadata": {},
   "outputs": [
    {
     "data": {
      "text/plain": [
       "'value3'"
      ]
     },
     "execution_count": 57,
     "metadata": {},
     "output_type": "execute_result"
    }
   ],
   "source": [
    "value"
   ]
  },
  {
   "cell_type": "code",
   "execution_count": 58,
   "id": "f9df5ef4-6f12-40b6-952c-65ebf528f2c8",
   "metadata": {},
   "outputs": [],
   "source": [
    "# Using popitem(): Delete a random item and return a tuple of (key, value)\n",
    "key, value = my_dict.popitem()"
   ]
  },
  {
   "cell_type": "code",
   "execution_count": 59,
   "id": "bd87a1d8-c498-4353-8cfb-277d7d44e5ad",
   "metadata": {},
   "outputs": [
    {
     "data": {
      "text/plain": [
       "'key4'"
      ]
     },
     "execution_count": 59,
     "metadata": {},
     "output_type": "execute_result"
    }
   ],
   "source": [
    "key"
   ]
  },
  {
   "cell_type": "code",
   "execution_count": 60,
   "id": "e50e42e2-279c-48ab-a6a1-80a8cdf05b6c",
   "metadata": {},
   "outputs": [
    {
     "data": {
      "text/plain": [
       "'value4'"
      ]
     },
     "execution_count": 60,
     "metadata": {},
     "output_type": "execute_result"
    }
   ],
   "source": [
    "value"
   ]
  },
  {
   "cell_type": "code",
   "execution_count": 61,
   "id": "f2a99bb4-8775-4662-b435-3e45548648a2",
   "metadata": {},
   "outputs": [],
   "source": [
    "# Example\n",
    "my_dict = {\"name\": \"Alice\", \"age\": 30}"
   ]
  },
  {
   "cell_type": "code",
   "execution_count": 62,
   "id": "1e639c52-9d51-4364-904d-22607ab692e5",
   "metadata": {},
   "outputs": [
    {
     "data": {
      "text/plain": [
       "{'name': 'Alice', 'age': 30}"
      ]
     },
     "execution_count": 62,
     "metadata": {},
     "output_type": "execute_result"
    }
   ],
   "source": [
    "my_dict"
   ]
  },
  {
   "cell_type": "code",
   "execution_count": 63,
   "id": "760b618c-d164-4eab-8f83-9e4d43a44067",
   "metadata": {},
   "outputs": [],
   "source": [
    "# Add an item\n",
    "my_dict[\"city\"] = \"New York\""
   ]
  },
  {
   "cell_type": "code",
   "execution_count": 64,
   "id": "b27b5ead-09bd-4d92-9398-75b8e50fe6ca",
   "metadata": {},
   "outputs": [
    {
     "data": {
      "text/plain": [
       "{'name': 'Alice', 'age': 30, 'city': 'New York'}"
      ]
     },
     "execution_count": 64,
     "metadata": {},
     "output_type": "execute_result"
    }
   ],
   "source": [
    "my_dict"
   ]
  },
  {
   "cell_type": "code",
   "execution_count": 65,
   "id": "744b465e-9d18-42b7-b969-fe639b760ed0",
   "metadata": {},
   "outputs": [],
   "source": [
    "# Modify an item\n",
    "my_dict[\"age\"] = 31"
   ]
  },
  {
   "cell_type": "code",
   "execution_count": 66,
   "id": "d0568461-5bac-4d6f-84d9-f90d71027952",
   "metadata": {},
   "outputs": [
    {
     "data": {
      "text/plain": [
       "{'name': 'Alice', 'age': 31, 'city': 'New York'}"
      ]
     },
     "execution_count": 66,
     "metadata": {},
     "output_type": "execute_result"
    }
   ],
   "source": [
    "my_dict"
   ]
  },
  {
   "cell_type": "code",
   "execution_count": 67,
   "id": "3504edf7-37e7-488c-b89d-1311fc178e90",
   "metadata": {},
   "outputs": [],
   "source": [
    "# Delete an item\n",
    "del my_dict[\"city\"]"
   ]
  },
  {
   "cell_type": "code",
   "execution_count": 68,
   "id": "2d2976ab-f436-4b07-badf-ef04f08f9f13",
   "metadata": {},
   "outputs": [
    {
     "name": "stdout",
     "output_type": "stream",
     "text": [
      "{'name': 'Alice', 'age': 31}\n"
     ]
    }
   ],
   "source": [
    "print(my_dict)"
   ]
  },
  {
   "cell_type": "code",
   "execution_count": 69,
   "id": "fdd6318c-487c-4db9-8b8c-abda1f578b60",
   "metadata": {},
   "outputs": [],
   "source": [
    "# 8. Discuss the importance of dictionary keys being immutable and provide examples"
   ]
  },
  {
   "cell_type": "code",
   "execution_count": 70,
   "id": "9fd220a0-3082-4e19-bc7d-64d958348ead",
   "metadata": {},
   "outputs": [],
   "source": [
    "# # In Python, dictionary keys must be immutable objects. This means that their values cannot be changed after creation. This constraint is essential \n",
    "# for the efficient operation of dictionaries.\n",
    "\n",
    "# Reasons for Immutability:\n",
    "\n",
    "# Hashing: Dictionaries use hashing to store and retrieve key-value pairs efficiently. The hash value of a key is used to determine its location \n",
    "# within the dictionary. If keys were mutable, their hash values could change over time, leading to unpredictable behavior and potential performance \n",
    "# issues.\n",
    "\n",
    "# Comparison: Dictionaries compare keys using equality. If keys were mutable, comparing two keys that initially appear equal might yield different \n",
    "# results later if one of the keys is modified. This could lead to inconsistencies and errors.\n",
    "\n",
    "# Consistency: Immutability ensures that keys remain consistent throughout the lifetime of a dictionary, making it easier to reason about and \n",
    "# maintain."
   ]
  },
  {
   "cell_type": "code",
   "execution_count": 71,
   "id": "348052bd-e5a4-49ed-b852-f951d47673d5",
   "metadata": {},
   "outputs": [
    {
     "data": {
      "text/plain": [
       "{'apple': 1, 'banana': 2}"
      ]
     },
     "execution_count": 71,
     "metadata": {},
     "output_type": "execute_result"
    }
   ],
   "source": [
    "# Examples of Immutable Keys:\n",
    "\n",
    "# Strings: Strings are immutable in Python, making them common choices for dictionary keys.\n",
    "my_dict = {\"apple\": 1, \"banana\": 2}\n",
    "my_dict"
   ]
  },
  {
   "cell_type": "code",
   "execution_count": 72,
   "id": "7e2d6beb-8d94-4923-8e2e-e632c29abec7",
   "metadata": {},
   "outputs": [
    {
     "data": {
      "text/plain": [
       "{1: 'one', 2.5: 'two point five'}"
      ]
     },
     "execution_count": 72,
     "metadata": {},
     "output_type": "execute_result"
    }
   ],
   "source": [
    "# Numbers: Integers and floating-point numbers are also immutable and can be used as keys.\n",
    "my_dict = {1: \"one\", 2.5: \"two point five\"}\n",
    "my_dict"
   ]
  },
  {
   "cell_type": "code",
   "execution_count": 73,
   "id": "b7106629-3df1-47bb-accc-63f9e37597f1",
   "metadata": {},
   "outputs": [],
   "source": [
    "# Tuples: Tuples are immutable sequences, making them suitable for use as keys.\n",
    "my_dict = {(\"key1\", \"key2\"): \"value\"}"
   ]
  },
  {
   "cell_type": "code",
   "execution_count": 74,
   "id": "d09ec350-6c54-48a6-886c-90ce570eba71",
   "metadata": {},
   "outputs": [
    {
     "data": {
      "text/plain": [
       "{('key1', 'key2'): 'value'}"
      ]
     },
     "execution_count": 74,
     "metadata": {},
     "output_type": "execute_result"
    }
   ],
   "source": [
    "my_dict"
   ]
  },
  {
   "cell_type": "code",
   "execution_count": 75,
   "id": "109430a0-8d77-4f6b-bdc7-fba2ad01f6b5",
   "metadata": {},
   "outputs": [
    {
     "ename": "TypeError",
     "evalue": "unhashable type: 'list'",
     "output_type": "error",
     "traceback": [
      "\u001b[0;31m---------------------------------------------------------------------------\u001b[0m",
      "\u001b[0;31mTypeError\u001b[0m                                 Traceback (most recent call last)",
      "Cell \u001b[0;32mIn[75], line 4\u001b[0m\n\u001b[1;32m      1\u001b[0m \u001b[38;5;66;03m# Examples of Mutable Keys (Not Allowed):\u001b[39;00m\n\u001b[1;32m      2\u001b[0m \n\u001b[1;32m      3\u001b[0m \u001b[38;5;66;03m# Lists: Lists are mutable, so they cannot be used as keys.\u001b[39;00m\n\u001b[0;32m----> 4\u001b[0m my_dict \u001b[38;5;241m=\u001b[39m {[\u001b[38;5;241m1\u001b[39m, \u001b[38;5;241m2\u001b[39m]: \u001b[38;5;124m\"\u001b[39m\u001b[38;5;124mlist_key\u001b[39m\u001b[38;5;124m\"\u001b[39m}  \u001b[38;5;66;03m# This will raise a TypeError\u001b[39;00m\n",
      "\u001b[0;31mTypeError\u001b[0m: unhashable type: 'list'"
     ]
    }
   ],
   "source": [
    "# Examples of Mutable Keys (Not Allowed):\n",
    "\n",
    "# Lists: Lists are mutable, so they cannot be used as keys.\n",
    "my_dict = {[1, 2]: \"list_key\"}  # This will raise a TypeError"
   ]
  },
  {
   "cell_type": "code",
   "execution_count": 76,
   "id": "a2dcc23b-ad93-4032-b09e-06bc8f37c064",
   "metadata": {},
   "outputs": [
    {
     "ename": "TypeError",
     "evalue": "unhashable type: 'dict'",
     "output_type": "error",
     "traceback": [
      "\u001b[0;31m---------------------------------------------------------------------------\u001b[0m",
      "\u001b[0;31mTypeError\u001b[0m                                 Traceback (most recent call last)",
      "Cell \u001b[0;32mIn[76], line 2\u001b[0m\n\u001b[1;32m      1\u001b[0m \u001b[38;5;66;03m# Dictionaries: Dictionaries are also mutable and cannot be used as keys.\u001b[39;00m\n\u001b[0;32m----> 2\u001b[0m my_dict \u001b[38;5;241m=\u001b[39m {{\u001b[38;5;241m1\u001b[39m: \u001b[38;5;241m2\u001b[39m}: \u001b[38;5;124m\"\u001b[39m\u001b[38;5;124mdict_key\u001b[39m\u001b[38;5;124m\"\u001b[39m}  \u001b[38;5;66;03m# This will raise a TypeError\u001b[39;00m\n",
      "\u001b[0;31mTypeError\u001b[0m: unhashable type: 'dict'"
     ]
    }
   ],
   "source": [
    "# Dictionaries: Dictionaries are also mutable and cannot be used as keys.\n",
    "my_dict = {{1: 2}: \"dict_key\"}  # This will raise a TypeError"
   ]
  },
  {
   "cell_type": "code",
   "execution_count": null,
   "id": "b18b7ed5-1588-485b-bc2f-d2c2e1abb2b1",
   "metadata": {},
   "outputs": [],
   "source": []
  },
  {
   "cell_type": "code",
   "execution_count": null,
   "id": "062b5a45-6a68-4fc7-8680-6287dc2c4d17",
   "metadata": {},
   "outputs": [],
   "source": []
  },
  {
   "cell_type": "code",
   "execution_count": null,
   "id": "61aad100-656a-44ca-b75e-967ad3dca59c",
   "metadata": {},
   "outputs": [],
   "source": []
  },
  {
   "cell_type": "code",
   "execution_count": null,
   "id": "f9fea03a-ae1c-478f-adaa-c044472940bb",
   "metadata": {},
   "outputs": [],
   "source": []
  },
  {
   "cell_type": "code",
   "execution_count": null,
   "id": "faeaf12a-42a9-4592-8e68-696a5b23e375",
   "metadata": {},
   "outputs": [],
   "source": []
  },
  {
   "cell_type": "code",
   "execution_count": null,
   "id": "38661369-3d3b-4323-9e17-335f1d5aaea3",
   "metadata": {},
   "outputs": [],
   "source": []
  },
  {
   "cell_type": "code",
   "execution_count": null,
   "id": "85f64c52-4142-4b6c-8396-6824875905f6",
   "metadata": {},
   "outputs": [],
   "source": []
  },
  {
   "cell_type": "code",
   "execution_count": null,
   "id": "74bc56e7-fd0c-4d8d-8fe4-9b5d0bbd3afb",
   "metadata": {},
   "outputs": [],
   "source": []
  },
  {
   "cell_type": "code",
   "execution_count": null,
   "id": "99102b9a-f58d-4adf-b80d-9c6f29cf17f2",
   "metadata": {},
   "outputs": [],
   "source": []
  },
  {
   "cell_type": "code",
   "execution_count": null,
   "id": "84f481bb-6541-44d5-abb8-b8c5d57f0535",
   "metadata": {},
   "outputs": [],
   "source": []
  },
  {
   "cell_type": "code",
   "execution_count": null,
   "id": "81fc6421-48cc-41a5-a071-29d8edabafe1",
   "metadata": {},
   "outputs": [],
   "source": []
  },
  {
   "cell_type": "code",
   "execution_count": null,
   "id": "ec68a6c2-b9d4-4fb1-994e-8a3a2c723033",
   "metadata": {},
   "outputs": [],
   "source": []
  },
  {
   "cell_type": "code",
   "execution_count": null,
   "id": "015de8bf-62f3-4dcb-bffc-9465519bcf12",
   "metadata": {},
   "outputs": [],
   "source": []
  },
  {
   "cell_type": "code",
   "execution_count": null,
   "id": "bd97ba73-a391-48b2-b20a-e5d1355e74fe",
   "metadata": {},
   "outputs": [],
   "source": []
  },
  {
   "cell_type": "code",
   "execution_count": null,
   "id": "cba2d985-abae-4a24-8f05-da1f2ed3588f",
   "metadata": {},
   "outputs": [],
   "source": []
  }
 ],
 "metadata": {
  "kernelspec": {
   "display_name": "Python 3 (ipykernel)",
   "language": "python",
   "name": "python3"
  },
  "language_info": {
   "codemirror_mode": {
    "name": "ipython",
    "version": 3
   },
   "file_extension": ".py",
   "mimetype": "text/x-python",
   "name": "python",
   "nbconvert_exporter": "python",
   "pygments_lexer": "ipython3",
   "version": "3.10.8"
  }
 },
 "nbformat": 4,
 "nbformat_minor": 5
}
